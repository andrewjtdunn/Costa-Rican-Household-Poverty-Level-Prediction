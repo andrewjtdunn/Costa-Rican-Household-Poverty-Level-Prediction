{
 "cells": [
  {
   "cell_type": "code",
   "execution_count": 1,
   "metadata": {},
   "outputs": [],
   "source": [
    "import pandas as pd\n",
    "import numpy as np\n",
    "from sklearn.model_selection import train_test_split\n",
    "from sklearn.linear_model import LogisticRegression\n",
    "import load_data\n",
    "import loops\n",
    "import exploratory_analysis.analyze_k\n",
    "from best_model import best_model\n",
    "SEED = 0\n",
    "\n",
    "df, train_indices, valid_indices = load_data.load_train_data()\n"
   ]
  },
  {
   "cell_type": "code",
   "execution_count": 3,
   "metadata": {},
   "outputs": [
    {
     "data": {
      "text/plain": [
       "{'accuracy': 0.6057935093229212,\n",
       " 'f1': 0.6149668029480223,\n",
       " 'Macro f1': 0.3927558446468965,\n",
       " 'recall_1': 0.1801010101010101,\n",
       " 'precision_1': 0.28984126984126984,\n",
       " 'recall_2': 0.567849846782431,\n",
       " 'precision_2': 0.26934828134504596,\n",
       " 'recall_3': 0.15492957746478875,\n",
       " 'precision_3': 0.29082591123054796,\n",
       " 'recall_4': 0.7446468620893174,\n",
       " 'precision_4': 0.8483324879237353}"
      ]
     },
     "execution_count": 3,
     "metadata": {},
     "output_type": "execute_result"
    }
   ],
   "source": [
    "# model including engineered features\n",
    "reg = LogisticRegression(solver='liblinear', penalty='l2')\n",
    "results = loops.loop_model(reg,df,train_indices,valid_indices,oversample=load_data.gen_SMOTE_data,var_thresh=True)\n",
    "exploratory_analysis.analyze_k.average_outcome(results)\n"
   ]
  },
  {
   "cell_type": "code",
   "execution_count": 7,
   "metadata": {},
   "outputs": [
    {
     "data": {
      "text/plain": [
       "{'accuracy': 0.5836041083099908,\n",
       " 'f1': 0.5962867419231248,\n",
       " 'Macro f1': 0.37667317469003103,\n",
       " 'recall_1': 0.1713131313131313,\n",
       " 'precision_1': 0.28181776556776555,\n",
       " 'recall_2': 0.5316138917262513,\n",
       " 'precision_2': 0.24896819165236156,\n",
       " 'recall_3': 0.15492957746478875,\n",
       " 'precision_3': 0.27049638811036986,\n",
       " 'recall_4': 0.7200970555446258,\n",
       " 'precision_4': 0.8357876348892337}"
      ]
     },
     "execution_count": 7,
     "metadata": {},
     "output_type": "execute_result"
    }
   ],
   "source": [
    "# model excluding engineered features\n",
    "engineered_features = ['max_education_level', 'hh_has_marriage', 'hh_max_age', \n",
    "    'hh_sex_ratio', 'hh_child_woman_ratio_12', 'hh_child_adult_ratio_12', \n",
    "    'hh_child_woman_ratio_19', 'hh_child_adult_ratio_19', 'v2a1_log']\n",
    "df_no_ef = df.drop(columns=[col for col in df if col in engineered_features])\n",
    "\n",
    "reg = LogisticRegression(solver='liblinear', penalty='l2')\n",
    "results = loops.loop_model(reg,df_no_ef,train_indices,valid_indices,oversample=load_data.gen_SMOTE_data,var_thresh=True)\n",
    "exploratory_analysis.analyze_k.average_outcome(results)\n"
   ]
  },
  {
   "cell_type": "code",
   "execution_count": 5,
   "metadata": {},
   "outputs": [
    {
     "data": {
      "text/plain": [
       "array([2, 2, 4, 4, 2, 2, 2, 2, 4, 4, 4, 2, 1, 4, 3, 4, 2, 4, 4, 2, 4, 4,\n",
       "       4, 4, 2, 2, 2, 4, 1, 2, 4, 3, 4, 4, 2, 4, 2, 4, 3, 4, 4, 2, 2, 4,\n",
       "       4, 4, 2, 4, 4, 4, 4, 3, 4, 2, 4, 2, 4, 3, 4, 2, 3, 2, 2, 4, 2, 4,\n",
       "       4, 4, 4, 4, 4, 2, 4, 4, 4, 2, 4, 4, 2, 2, 1, 2, 2, 2, 4, 2, 4, 2,\n",
       "       2, 2, 4, 4, 4, 4, 1, 2, 4, 2, 2, 4, 3, 1, 4, 4, 2, 4, 4, 4, 2, 4,\n",
       "       2, 2, 4, 4, 4, 4, 2, 4, 2, 2, 2, 4, 4, 4, 4, 2, 4, 4, 2, 4, 2, 4,\n",
       "       2, 4, 4, 2, 4, 2, 4, 4, 4, 4, 4, 2, 4, 4, 2, 2, 2, 4, 2, 4, 2, 1,\n",
       "       4, 4, 3, 1, 4, 4, 2, 1, 2, 2, 2, 4, 2, 4, 2, 4, 4, 3, 1, 2, 4, 2,\n",
       "       4, 4, 4, 4, 4, 4, 4, 2, 4, 2, 2, 4, 3, 4, 4, 4, 4, 4, 2, 2, 2, 1,\n",
       "       4, 4, 4, 2, 4, 4, 4, 2, 4, 2, 4, 4, 4, 4, 4, 4, 4, 2, 4, 2, 4, 4,\n",
       "       4, 4, 4, 4, 4, 4, 2, 2, 1, 4, 4, 4, 2, 4, 2, 2, 2, 2, 4, 4, 4, 4,\n",
       "       2, 4, 4, 4, 4, 4, 4, 4, 2, 4, 4, 4, 4, 4, 2, 4, 2, 2, 4, 4, 4, 2,\n",
       "       4, 4, 2, 4, 2, 4, 4, 4, 2, 4, 4, 4, 2, 4, 4, 4, 3, 3, 2, 2, 2, 4,\n",
       "       4, 2, 1, 4, 2, 4, 4, 3, 4, 3, 4, 2, 2, 2, 4, 4, 4, 4, 4, 2, 4, 4,\n",
       "       4, 3, 2, 4, 4, 4, 1, 4, 4, 2, 4, 4, 4, 2, 2, 2, 2, 2, 4, 4, 2, 3,\n",
       "       4, 4, 1, 2, 4, 1, 4, 4, 3, 4, 4, 4, 2, 4, 4, 4, 2, 4, 4, 4, 2, 2,\n",
       "       4, 2, 2, 2, 2, 2, 4, 1, 4, 2, 4, 3, 4, 4, 2, 4, 4, 4, 2, 1, 4, 4,\n",
       "       2, 2, 2, 4, 4, 2, 4, 3, 2, 4, 4, 2, 2, 4, 4, 2, 2, 4, 4, 1, 4, 2,\n",
       "       2, 2, 4, 4, 2, 2, 4, 4, 3, 4, 2, 4, 4, 2, 4, 2, 2, 2, 2, 2, 2, 2,\n",
       "       4, 2, 4, 2, 2, 4, 4, 3, 2, 4, 4, 4, 4, 4, 4, 4, 4, 4, 2, 2, 1, 2,\n",
       "       4, 4, 2, 2, 2, 4, 1, 4, 2, 4, 2, 2, 3, 4, 2, 4, 4, 4, 4, 4, 4, 3,\n",
       "       2, 2, 3, 2, 4, 2, 2, 3, 4, 2, 2, 4, 2, 2, 2, 4, 4, 2, 2, 1, 4, 4,\n",
       "       4, 1, 4, 4, 4, 4, 4, 4, 4, 4, 4, 4, 2, 2, 2, 2, 4, 4, 4, 4, 4, 4,\n",
       "       2, 1, 4, 2, 2, 1, 4, 4, 1, 4, 4, 4, 4, 4, 3, 4, 1, 4, 2, 4, 2, 4,\n",
       "       4, 4, 4, 4, 3, 4, 4, 4, 4, 4, 1, 2, 4, 2, 1, 4, 4, 2, 4, 4, 4, 4,\n",
       "       2, 4, 4, 4, 4, 2, 4, 4, 4, 2, 4, 4, 2, 4, 2, 4, 2, 4, 4, 4, 4, 4,\n",
       "       4, 4, 4, 4, 2, 4, 4, 2, 4, 4, 4, 4, 4, 4, 4, 4, 4, 4, 4, 3, 4, 4,\n",
       "       2])"
      ]
     },
     "execution_count": 5,
     "metadata": {},
     "output_type": "execute_result"
    }
   ],
   "source": [
    "df, train_indices, valid_indices = load_data.load_train_data()\n",
    "\n",
    "train, test = train_test_split(df, test_size = .2, random_state = SEED)\n",
    "\n",
    "log_model, col_names = best_model(train)\n",
    "\n",
    "# drop the target col and col names that model didn't find useful\n",
    "X_test = test.drop(columns=\"Target\")\n",
    "X_test = X_test.drop(columns=[col for col in X_test if col not in col_names])\n",
    "y_pred = log_model.predict(X_test)\n",
    "y_pred\n"
   ]
  },
  {
   "cell_type": "code",
   "execution_count": 8,
   "metadata": {},
   "outputs": [],
   "source": [
    "y_pred_df = pd.DataFrame(y_pred)\n",
    "y_pred_df = y_pred_df.rename(columns={0: 'Target_pred'})\n",
    "test.reset_index()"
   ]
  },
  {
   "cell_type": "code",
   "execution_count": 21,
   "metadata": {},
   "outputs": [],
   "source": [
    "df_pred = pd.merge(test, y_pred_df, left_index=True, right_index=True)\n",
    "df_pred.loc[: 'acc_pred'] = np.where('Target' == 'Target_pred', 1, 0)"
   ]
  }
 ],
 "metadata": {
  "kernelspec": {
   "display_name": "base",
   "language": "python",
   "name": "python3"
  },
  "language_info": {
   "codemirror_mode": {
    "name": "ipython",
    "version": 3
   },
   "file_extension": ".py",
   "mimetype": "text/x-python",
   "name": "python",
   "nbconvert_exporter": "python",
   "pygments_lexer": "ipython3",
   "version": "3.9.13"
  },
  "orig_nbformat": 4
 },
 "nbformat": 4,
 "nbformat_minor": 2
}
