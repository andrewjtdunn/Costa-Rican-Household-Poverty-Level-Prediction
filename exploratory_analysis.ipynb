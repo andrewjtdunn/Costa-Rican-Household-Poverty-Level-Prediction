{
 "cells": [
  {
   "cell_type": "code",
   "execution_count": null,
   "metadata": {},
   "outputs": [],
   "source": [
    "# Explore raw data"
   ]
  },
  {
   "cell_type": "code",
   "execution_count": 2,
   "metadata": {},
   "outputs": [],
   "source": [
    "# libraries\n",
    "\n",
    "import pandas as pd\n",
    "import numpy as np\n",
    "from load_data import load_train_data\n",
    "\n",
    "\n",
    "X_train, X_valid, y_train, y_valid = load_train_data()\n",
    "# maybe name X_train to be df for ease?"
   ]
  },
  {
   "cell_type": "code",
   "execution_count": null,
   "metadata": {},
   "outputs": [],
   "source": [
    "# Lit review\n",
    "'''\n",
    "Brief lit review\n",
    "https://web.worldbank.org/archive/website01407/WEB/IMAGES/PMCH8.PDF\n",
    "\"Understanding the Determinants of Poverty\"ArithmeticError\n",
    "- using the highest level of the individuals in the household as the \n",
    "household level characteristic. IE, education level of the most highly educated\n",
    "person in the household\n",
    "\n",
    "https://documents1.worldbank.org/curated/en/775871468331250546/pdf/902880WP0Box380okPovertyAnalysisEng.pdf\n",
    "\"Introduction to Poverty Analysis\"\n",
    "- p88 - use household head characteristics\n",
    "\n",
    "https://www.jstor.org/stable/23612271?seq=8\n",
    "\"HOUSEHOLD CHARACTERISTICS AND POVERTY: A LOGISTIC REGRESSION ANALYSIS\"\n",
    "- p310\n",
    "    - use presence of disability, able-bodied persons, in the household\n",
    "    - sex ratio in household\n",
    "    - child/woman ratio in household\n",
    "    - proportion of female workers to total workers\n",
    "    - dependency ratio\n",
    "\n",
    "https://worldbank.github.io/SARMD_guidelines/note-hhdchars.html\n",
    "\"Understanding poverty through household and individual level characteristics\"\n",
    "- \"For example, it is not true in general that female-headed households have lower levels of expenditures per capita\"\n",
    "- \"It is true, however, that urban households have significantly higher expenditures per capita\"\n",
    "\n",
    "\n",
    "https://dhsprogram.com/pubs/pdf/cr6/cr6.pdf\n",
    "The DHS Wealth Index\n",
    "- \"For this reason, Filmer and Pritchett recommended using principal components analysis\n",
    "(PCA) to assign the indicator weights, the procedure that is used for the DHS wealth index.\"\n",
    "\n",
    "https://www.ine.es/en/daco/daco42/sociales/pobreza_en.pdf\n",
    "Poverty and its measurement\n",
    "- p8-9 - calculate income per consumption unit rather than per capita\n",
    "\n",
    "https://www.nber.org/system/files/working_papers/w24047/w24047.pdf\n",
    "\"ARE POOR INDIVIDUALS MAINLY FOUND IN POOR HOUSEHOLDS? EVIDENCE USING NUTRITION DATA FOR AFRICA\"\n",
    "\n",
    "https://arxiv.org/ftp/arxiv/papers/1304/1304.5816.pdf\n",
    "Moving from the Household to the Individual: Multidimensional Poverty Analysis\n",
    "\"Using longitudinal data Medeiros and Costa (2008) conclude that\n",
    "feminisation of poverty has not occurred in the eight Latin American countries they\n",
    "studied. Their findings are invariant to different measures and definitions of poverty.\"\n",
    "\"marital status is an important consideration when discussing poverty incidence\"\n",
    "\n",
    "'''"
   ]
  }
 ],
 "metadata": {
  "kernelspec": {
   "display_name": "Python 3",
   "language": "python",
   "name": "python3"
  },
  "language_info": {
   "codemirror_mode": {
    "name": "ipython",
    "version": 3
   },
   "file_extension": ".py",
   "mimetype": "text/x-python",
   "name": "python",
   "nbconvert_exporter": "python",
   "pygments_lexer": "ipython3",
   "version": "3.11.2"
  },
  "orig_nbformat": 4
 },
 "nbformat": 4,
 "nbformat_minor": 2
}
