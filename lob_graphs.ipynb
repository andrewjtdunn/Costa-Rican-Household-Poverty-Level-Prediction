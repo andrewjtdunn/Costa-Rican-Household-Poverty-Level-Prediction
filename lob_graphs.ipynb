{
 "cells": [
  {
   "cell_type": "code",
   "execution_count": null,
   "metadata": {},
   "outputs": [],
   "source": [
    "# libraries\n",
    "\n",
    "import pandas as pd\n",
    "import numpy as np\n",
    "import load_data\n",
    "import matplotlib.pyplot as plt\n",
    "\n",
    "df = load_data.load_train_data()"
   ]
  },
  {
   "cell_type": "code",
   "execution_count": null,
   "metadata": {},
   "outputs": [],
   "source": [
    "no_target_df = df.drop('Target', axis=1)"
   ]
  },
  {
   "cell_type": "code",
   "execution_count": null,
   "metadata": {},
   "outputs": [],
   "source": [
    "corrs = abs(no_target_df.corrwith(df.loc[:,'Target'], method='spearman')).sort_values(ascending=False)"
   ]
  },
  {
   "cell_type": "code",
   "execution_count": null,
   "metadata": {},
   "outputs": [],
   "source": [
    "corrs.head(10)"
   ]
  },
  {
   "cell_type": "code",
   "execution_count": null,
   "metadata": {},
   "outputs": [],
   "source": [
    "df['Target'].value_counts()"
   ]
  },
  {
   "cell_type": "code",
   "execution_count": null,
   "metadata": {},
   "outputs": [],
   "source": [
    "df['v2a1_log'] = np.log1p(df['v2a1'].fillna(np.mean(df['v2a1'])))"
   ]
  },
  {
   "cell_type": "code",
   "execution_count": null,
   "metadata": {},
   "outputs": [],
   "source": [
    "def plot_continuous(df, continuous_col, target_col, cutoff=None):\n",
    "    \"\"\"\n",
    "    Plot target distribution by continuous variable\n",
    "    \n",
    "    Parameters:\n",
    "    df (pandas.DataFrame): Dataframe containing both continuous and target variables\n",
    "    continuous_col (str): Name of the continuous variable column\n",
    "    target_col (str): Name of the target variable column\n",
    "    cutoff (float): Optional cutoff value for the continuous variable\n",
    "    \n",
    "    Returns:\n",
    "    None\n",
    "    \"\"\"\n",
    "    df[continuous_col] = df[continuous_col].fillna(df[continuous_col].mean())\n",
    "    \n",
    "    # Cap continuous column at cutoff if specified\n",
    "    if cutoff:\n",
    "        df.loc[df[continuous_col] > cutoff, continuous_col] = cutoff\n",
    "    \n",
    "    # Define the bins using the distribution of the continuous variable\n",
    "    if cutoff:\n",
    "        bins = [df[continuous_col].min(), df[continuous_col].quantile(0.25), df[continuous_col].median(), df[continuous_col].quantile(0.75), cutoff]\n",
    "    else:\n",
    "        bins = np.percentile(df[continuous_col], [0, 25, 50, 75, 100])\n",
    "    bins = np.unique(bins)\n",
    "    # Create a label for each bin, handling duplicates if necessary\n",
    "    labels = []\n",
    "    for i in range(len(bins)-1):\n",
    "        label = f'{int(bins[i])}-{int(bins[i+1])}'\n",
    "        count = labels.count(label)\n",
    "        if count > 0:\n",
    "            label = f'{label} ({count})'\n",
    "        labels.append(label)\n",
    "    \n",
    "    df[f'{continuous_col}_bin'] = pd.cut(df[continuous_col], bins=bins, labels=labels, include_lowest=True, right=True, duplicates='drop')\n",
    "    \n",
    "    # Count target variable by continuous variable bin\n",
    "    target_by_bin = df.groupby(f'{continuous_col}_bin')[target_col].value_counts(normalize=True).unstack().fillna(0)\n",
    "    \n",
    "    # Define the x-axis tick labels\n",
    "    tick_labels = labels\n",
    "    \n",
    "    # Plot the bars\n",
    "    fig, ax = plt.subplots()\n",
    "    bar_width = 0.2\n",
    "    opacity = 0.8\n",
    "    \n",
    "    for i in range(len(target_by_bin.columns)):\n",
    "        rects = ax.bar(np.arange(len(tick_labels))+i*bar_width, target_by_bin.iloc[:,i], bar_width, alpha=opacity, label=f'Target = {target_by_bin.columns[i]}')\n",
    "    \n",
    "    # Add axis labels, title, and legend\n",
    "    ax.set_xlabel(continuous_col)\n",
    "    ax.set_ylabel('Percentage')\n",
    "    ax.set_title(f'Target Distribution by {continuous_col}')\n",
    "    ax.set_xticks(np.arange(len(tick_labels))+0.5*(len(target_by_bin.columns)-1)*bar_width)\n",
    "    ax.set_xticklabels(tick_labels)\n",
    "    ax.legend()\n",
    "    \n",
    "    plt.tight_layout()\n",
    "    plt.show()\n"
   ]
  },
  {
   "cell_type": "code",
   "execution_count": null,
   "metadata": {},
   "outputs": [],
   "source": [
    "plot_continuous(df, 'meaneduc', 'Target', cutoff=21)"
   ]
  },
  {
   "cell_type": "code",
   "execution_count": null,
   "metadata": {},
   "outputs": [],
   "source": [
    "plot_continuous(df, 'SQBmeaned', 'Target', cutoff=441)"
   ]
  },
  {
   "cell_type": "code",
   "execution_count": null,
   "metadata": {},
   "outputs": [],
   "source": [
    "plot_continuous(df,'v2a1_log','Target')"
   ]
  },
  {
   "cell_type": "code",
   "execution_count": null,
   "metadata": {},
   "outputs": [],
   "source": [
    "plot_continuous(df,'SQBdependency','Target')"
   ]
  },
  {
   "cell_type": "code",
   "execution_count": null,
   "metadata": {},
   "outputs": [],
   "source": [
    "plot_continuous(df,'escolari','Target')"
   ]
  },
  {
   "cell_type": "code",
   "execution_count": null,
   "metadata": {},
   "outputs": [],
   "source": [
    "plot_continuous(df,'hogar_nin','Target')"
   ]
  },
  {
   "cell_type": "code",
   "execution_count": null,
   "metadata": {},
   "outputs": [],
   "source": [
    "def plot_grouped_bar_chart(df, binary_col, target_col):\n",
    "    \"\"\"\n",
    "    Plots a grouped bar chart showing the percentage of each target category for each value of a binary column.\n",
    "\n",
    "    Parameters:\n",
    "    df (pandas.DataFrame): The DataFrame containing the data.\n",
    "    binary_col (str): The name of the binary column.\n",
    "    target_col (str): The name of the target column.\n",
    "\n",
    "    Returns:\n",
    "    None\n",
    "    \"\"\"\n",
    "\n",
    "    # Create a grouped bar chart\n",
    "    fig, ax = plt.subplots()\n",
    "    bar_width = 0.35\n",
    "    opacity = 0.8\n",
    "\n",
    "    # Get the unique values of the binary column\n",
    "    index = df[binary_col].unique()\n",
    "\n",
    "    # Count target variable by binary group\n",
    "    binary_yes = df[df[binary_col] == 1][target_col].value_counts().sort_index().tolist()\n",
    "    binary_no = df[df[binary_col] == 0][target_col].value_counts().sort_index().tolist()\n",
    "\n",
    "    # Calculate percentage of total for each target category within each binary group\n",
    "    binary_yes_perc = [count/sum(binary_yes) * 100 for count in binary_yes]\n",
    "    binary_no_perc = [count/sum(binary_no) * 100 for count in binary_no]\n",
    "    binary_yes_target_perc = [binary_yes[i]/(binary_yes[i]+binary_no[i]) * 100 for i in range(len(binary_yes))]\n",
    "    binary_no_target_perc = [binary_no[i]/(binary_yes[i]+binary_no[i]) * 100 for i in range(len(binary_no))]\n",
    "\n",
    "    # Define the x-axis tick labels\n",
    "    tick_labels = sorted(df[target_col].unique())\n",
    "\n",
    "    # Plot the bars\n",
    "    rects1 = ax.bar([i - bar_width/2 for i in range(len(tick_labels))], binary_yes_target_perc, bar_width, alpha=opacity, color='b', label=f'{binary_col}=Yes')\n",
    "    rects2 = ax.bar([i + bar_width/2 for i in range(len(tick_labels))], binary_no_target_perc, bar_width, alpha=opacity, color='orange', label=f'{binary_col}=No')\n",
    "\n",
    "    # Add axis labels, title, and legend\n",
    "    ax.set_xlabel(target_col)\n",
    "    ax.set_ylabel('Percentage of Total')\n",
    "    ax.set_title(f'{target_col} count by {binary_col}')\n",
    "    ax.set_xticks([i for i in range(len(tick_labels))])\n",
    "    ax.set_xticklabels(tick_labels)\n",
    "    ax.legend()\n",
    "\n",
    "    plt.tight_layout()\n",
    "    plt.show()"
   ]
  },
  {
   "cell_type": "code",
   "execution_count": null,
   "metadata": {},
   "outputs": [],
   "source": [
    "plot_grouped_bar_chart(df, 'cielorazo', 'Target')"
   ]
  },
  {
   "cell_type": "code",
   "execution_count": null,
   "metadata": {},
   "outputs": [],
   "source": [
    "plot_grouped_bar_chart(df, 'eviv3', 'Target')"
   ]
  },
  {
   "cell_type": "code",
   "execution_count": null,
   "metadata": {},
   "outputs": [],
   "source": [
    "plot_grouped_bar_chart(df,'epared2','Target')"
   ]
  },
  {
   "cell_type": "code",
   "execution_count": null,
   "metadata": {},
   "outputs": [],
   "source": [
    "plot_grouped_bar_chart(df,'pisocemento','Target')"
   ]
  }
 ],
 "metadata": {
  "kernelspec": {
   "display_name": "Python 3",
   "language": "python",
   "name": "python3"
  },
  "language_info": {
   "codemirror_mode": {
    "name": "ipython",
    "version": 3
   },
   "file_extension": ".py",
   "mimetype": "text/x-python",
   "name": "python",
   "nbconvert_exporter": "python",
   "pygments_lexer": "ipython3",
   "version": "3.11.2"
  },
  "orig_nbformat": 4
 },
 "nbformat": 4,
 "nbformat_minor": 2
}
