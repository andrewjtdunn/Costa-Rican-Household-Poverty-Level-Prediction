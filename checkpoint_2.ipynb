{
 "cells": [
  {
   "cell_type": "code",
   "execution_count": null,
   "metadata": {},
   "outputs": [],
   "source": [
    "# Andrew Dunn, Katherine Dumais, Kathryn Link-Oberstar, Lee-Or Bentovim\n",
    "# Summary of initial feature engineering and model testing for checkpoint 2\n",
    "\n",
    "# This analysis runs after we load, clean, and generate additional variables in load_data.py, \n",
    "# and initially explored the data in exploratory_analysis.ipynb.\n",
    "#"
   ]
  },
  {
   "cell_type": "code",
   "execution_count": null,
   "metadata": {},
   "outputs": [],
   "source": [
    "# Import libraries and data"
   ]
  },
  {
   "attachments": {},
   "cell_type": "markdown",
   "metadata": {},
   "source": [
    "**Feature Engineering**\n",
    "\n",
    "We generate several new variables, derived from our literature review, in load_data.py:\n",
    "\n",
    "- max_education_level: the education level of the person with the highest education level in the household\n",
    "- hh_has_marriage: whether someone in the household is married\n",
    "- hh_max_age: the age of the oldest person in the household\n",
    "- hh_sex_ratio: the ratio of men to women in the household\n",
    "- hh_child_woman_ratio_12: the ratio of children to women in the household, with children defined as being under 12\n",
    "- hh_child_adult_ratio_12: the ratio of children to adults in the household, with children defined as being under 12\n",
    "- hh_child_woman_ratio_19: the ratio of children to women in the household, with children defined as being under 19\n",
    "- hh_child_adult_ratio_19: the ratio of children to adults in the household, with children defined as being under 19\n",
    "- v2a1_log: the logged value of v2a1, the monthly rent payment. We also estimate and impute values into v2a1 when that field is missing."
   ]
  },
  {
   "attachments": {},
   "cell_type": "markdown",
   "metadata": {},
   "source": [
    "**Model Testing**\n",
    "\n",
    "We tested variations of four different models: random forest, naive bayes, KNN, and logistic regression in the following notebooks:\n",
    "\n",
    "Below, we demonstrate the best performing variants of those models."
   ]
  },
  {
   "cell_type": "code",
   "execution_count": null,
   "metadata": {},
   "outputs": [],
   "source": [
    "# Random Forest"
   ]
  },
  {
   "cell_type": "code",
   "execution_count": null,
   "metadata": {},
   "outputs": [],
   "source": [
    "# Naive Bayes"
   ]
  },
  {
   "cell_type": "code",
   "execution_count": null,
   "metadata": {},
   "outputs": [],
   "source": [
    "# KNN"
   ]
  },
  {
   "cell_type": "code",
   "execution_count": null,
   "metadata": {},
   "outputs": [],
   "source": [
    "# Logistic Regression"
   ]
  },
  {
   "attachments": {},
   "cell_type": "markdown",
   "metadata": {},
   "source": [
    "** Discussion **"
   ]
  }
 ],
 "metadata": {
  "language_info": {
   "name": "python"
  },
  "orig_nbformat": 4
 },
 "nbformat": 4,
 "nbformat_minor": 2
}
