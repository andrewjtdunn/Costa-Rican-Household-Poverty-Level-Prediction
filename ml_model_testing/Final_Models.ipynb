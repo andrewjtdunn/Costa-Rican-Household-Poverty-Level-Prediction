{
 "cells": [
  {
   "attachments": {},
   "cell_type": "markdown",
   "metadata": {},
   "source": [
    "## 1. Project Setup"
   ]
  },
  {
   "attachments": {},
   "cell_type": "markdown",
   "metadata": {},
   "source": [
    "**Load Data & Packages**"
   ]
  },
  {
   "cell_type": "code",
   "execution_count": 1,
   "metadata": {},
   "outputs": [],
   "source": [
    "import pandas as pd\n",
    "import numpy as np\n",
    "from sklearn.naive_bayes import ComplementNB\n",
    "from sklearn.preprocessing import MinMaxScaler\n",
    "from sklearn.neighbors import KNeighborsClassifier\n",
    "from sklearn.ensemble import RandomForestClassifier\n",
    "from sklearn.linear_model import LogisticRegression\n",
    "import os\n",
    "import analyze_k\n",
    "SEED = 12\n",
    "\n",
    "current_dir = os.getcwd()\n",
    "parent_dir = os.path.dirname(current_dir)\n",
    "os.chdir(parent_dir)\n",
    "\n",
    "import load_data as ld\n",
    "df, train_indices, valid_indices= ld.load_train_data()\n",
    "from evaluate_classification import evaluate_classification\n",
    "from sklearn.model_selection import train_test_split\n",
    "from evaluate_classification import evaluate_classification\n",
    "import loops\n",
    "\n",
    "df, train_indices, valid_indices = ld.load_train_data(filepath = 'Kaggle_download/train.csv')\n",
    "scaler = MinMaxScaler()\n",
    "\n",
    "import warnings\n",
    "warnings.filterwarnings('ignore')"
   ]
  },
  {
   "cell_type": "code",
   "execution_count": 2,
   "metadata": {},
   "outputs": [],
   "source": [
    "# below lines unnecessary?\n",
    "X_train = df.drop(columns=\"Target\")\n",
    "y_train = df.loc[:, 'Target']"
   ]
  },
  {
   "attachments": {},
   "cell_type": "markdown",
   "metadata": {},
   "source": [
    "### Out of the Box"
   ]
  },
  {
   "attachments": {},
   "cell_type": "markdown",
   "metadata": {},
   "source": [
    "#### Naive Bayes"
   ]
  },
  {
   "cell_type": "code",
   "execution_count": 3,
   "metadata": {},
   "outputs": [
    {
     "name": "stdout",
     "output_type": "stream",
     "text": [
      "Accuracy: 0.49\n",
      "Weighted F1 Score: 0.48\n",
      "Macro F1 Score: 0.24\n",
      "Precision: Class 1: 1.0 Class 2: 0.19  Class 3: 1.0\n",
      "           Class 4: 0.73\n",
      "Recall: Class 1: 0.0 Class 2: 0.56  Class 3: 0.0\n",
      "        Class 4: 0.62\n",
      "\n",
      "\n",
      "Accuracy: 0.53\n",
      "Weighted F1 Score: 0.51\n",
      "Macro F1 Score: 0.25\n",
      "Precision: Class 1: 1.0 Class 2: 0.21  Class 3: 1.0\n",
      "           Class 4: 0.73\n",
      "Recall: Class 1: 0.0 Class 2: 0.56  Class 3: 0.0\n",
      "        Class 4: 0.68\n",
      "\n",
      "\n",
      "Accuracy: 0.52\n",
      "Weighted F1 Score: 0.5\n",
      "Macro F1 Score: 0.26\n",
      "Precision: Class 1: 1.0 Class 2: 0.22  Class 3: 1.0\n",
      "           Class 4: 0.75\n",
      "Recall: Class 1: 0.0 Class 2: 0.65  Class 3: 0.0\n",
      "        Class 4: 0.64\n",
      "\n",
      "\n",
      "Accuracy: 0.51\n",
      "Weighted F1 Score: 0.5\n",
      "Macro F1 Score: 0.25\n",
      "Precision: Class 1: 1.0 Class 2: 0.19  Class 3: 1.0\n",
      "           Class 4: 0.74\n",
      "Recall: Class 1: 0.0 Class 2: 0.56  Class 3: 0.0\n",
      "        Class 4: 0.65\n",
      "\n",
      "\n",
      "Accuracy: 0.5\n",
      "Weighted F1 Score: 0.49\n",
      "Macro F1 Score: 0.24\n",
      "Precision: Class 1: 1.0 Class 2: 0.2  Class 3: 1.0\n",
      "           Class 4: 0.73\n",
      "Recall: Class 1: 0.0 Class 2: 0.57  Class 3: 0.0\n",
      "        Class 4: 0.63\n",
      "\n",
      "\n"
     ]
    }
   ],
   "source": [
    "nb = ComplementNB()\n",
    "nb_results = loops.loop_model(nb, df, train_indices, valid_indices, inc_cm=False)"
   ]
  },
  {
   "cell_type": "code",
   "execution_count": 4,
   "metadata": {},
   "outputs": [
    {
     "data": {
      "text/plain": [
       "{'accuracy': 0.5099199275669863,\n",
       " 'f1': 0.4966067069661597,\n",
       " 'Macro f1': 0.24699386946327015,\n",
       " 'recall_1': 0.0,\n",
       " 'precision_1': 1.0,\n",
       " 'recall_2': 0.5792390194075587,\n",
       " 'precision_2': 0.20278332354668233,\n",
       " 'recall_3': 0.0,\n",
       " 'precision_3': 1.0,\n",
       " 'recall_4': 0.6448252344416028,\n",
       " 'precision_4': 0.7369148205118234}"
      ]
     },
     "execution_count": 4,
     "metadata": {},
     "output_type": "execute_result"
    }
   ],
   "source": [
    "avg_nb = analyze_k.average_outcome(nb_results)\n",
    "avg_nb"
   ]
  },
  {
   "attachments": {},
   "cell_type": "markdown",
   "metadata": {},
   "source": [
    "### KNN "
   ]
  },
  {
   "cell_type": "code",
   "execution_count": 5,
   "metadata": {},
   "outputs": [
    {
     "name": "stdout",
     "output_type": "stream",
     "text": [
      "Accuracy: 0.61\n",
      "Weighted F1 Score: 0.56\n",
      "Macro F1 Score: 0.3\n",
      "Precision: Class 1: 0.18 Class 2: 0.26  Class 3: 0.17\n",
      "           Class 4: 0.69\n",
      "Recall: Class 1: 0.07 Class 2: 0.17  Class 3: 0.08\n",
      "        Class 4: 0.86\n",
      "\n",
      "\n",
      "Accuracy: 0.63\n",
      "Weighted F1 Score: 0.56\n",
      "Macro F1 Score: 0.29\n",
      "Precision: Class 1: 0.14 Class 2: 0.34  Class 3: 0.14\n",
      "           Class 4: 0.69\n",
      "Recall: Class 1: 0.04 Class 2: 0.17  Class 3: 0.06\n",
      "        Class 4: 0.9\n",
      "\n",
      "\n",
      "Accuracy: 0.61\n",
      "Weighted F1 Score: 0.54\n",
      "Macro F1 Score: 0.26\n",
      "Precision: Class 1: 0.06 Class 2: 0.24  Class 3: 0.11\n",
      "           Class 4: 0.69\n",
      "Recall: Class 1: 0.02 Class 2: 0.11  Class 3: 0.04\n",
      "        Class 4: 0.89\n",
      "\n",
      "\n",
      "Accuracy: 0.6\n",
      "Weighted F1 Score: 0.55\n",
      "Macro F1 Score: 0.29\n",
      "Precision: Class 1: 0.22 Class 2: 0.18  Class 3: 0.17\n",
      "           Class 4: 0.7\n",
      "Recall: Class 1: 0.09 Class 2: 0.12  Class 3: 0.07\n",
      "        Class 4: 0.87\n",
      "\n",
      "\n",
      "Accuracy: 0.61\n",
      "Weighted F1 Score: 0.55\n",
      "Macro F1 Score: 0.27\n",
      "Precision: Class 1: 0.07 Class 2: 0.2  Class 3: 0.16\n",
      "           Class 4: 0.7\n",
      "Recall: Class 1: 0.02 Class 2: 0.09  Class 3: 0.1\n",
      "        Class 4: 0.89\n",
      "\n",
      "\n"
     ]
    }
   ],
   "source": [
    "knn = KNeighborsClassifier(n_neighbors=15, weights='distance')\n",
    "knn_results = loops.loop_model(knn, df, train_indices, valid_indices, inc_cm=False)"
   ]
  },
  {
   "cell_type": "code",
   "execution_count": 6,
   "metadata": {},
   "outputs": [
    {
     "data": {
      "text/plain": [
       "{'accuracy': 0.6111648699883994,\n",
       " 'f1': 0.5522241234977233,\n",
       " 'Macro f1': 0.27882688713612136,\n",
       " 'recall_1': 0.0496969696969697,\n",
       " 'precision_1': 0.13275443510737628,\n",
       " 'recall_2': 0.1335035750766088,\n",
       " 'precision_2': 0.2462605516007313,\n",
       " 'recall_3': 0.0704225352112676,\n",
       " 'precision_3': 0.1503950838433597,\n",
       " 'recall_4': 0.8812735261328613,\n",
       " 'precision_4': 0.693013944692242}"
      ]
     },
     "execution_count": 6,
     "metadata": {},
     "output_type": "execute_result"
    }
   ],
   "source": [
    "avg_knn = analyze_k.average_outcome(knn_results)\n",
    "avg_knn"
   ]
  },
  {
   "attachments": {},
   "cell_type": "markdown",
   "metadata": {},
   "source": [
    "#### Random Forest"
   ]
  },
  {
   "cell_type": "code",
   "execution_count": 7,
   "metadata": {},
   "outputs": [
    {
     "name": "stdout",
     "output_type": "stream",
     "text": [
      "Accuracy: 0.68\n",
      "Weighted F1 Score: 0.62\n",
      "Macro F1 Score: 0.38\n",
      "Precision: Class 1: 0.58 Class 2: 0.39  Class 3: 0.31\n",
      "           Class 4: 0.73\n",
      "Recall: Class 1: 0.16 Class 2: 0.28  Class 3: 0.07\n",
      "        Class 4: 0.94\n",
      "\n",
      "\n",
      "Accuracy: 0.67\n",
      "Weighted F1 Score: 0.6\n",
      "Macro F1 Score: 0.35\n",
      "Precision: Class 1: 0.45 Class 2: 0.31  Class 3: 0.11\n",
      "           Class 4: 0.73\n",
      "Recall: Class 1: 0.22 Class 2: 0.19  Class 3: 0.01\n",
      "        Class 4: 0.95\n",
      "\n",
      "\n",
      "Accuracy: 0.68\n",
      "Weighted F1 Score: 0.63\n",
      "Macro F1 Score: 0.38\n",
      "Precision: Class 1: 0.41 Class 2: 0.4  Class 3: 0.47\n",
      "           Class 4: 0.73\n",
      "Recall: Class 1: 0.16 Class 2: 0.26  Class 3: 0.1\n",
      "        Class 4: 0.95\n",
      "\n",
      "\n",
      "Accuracy: 0.68\n",
      "Weighted F1 Score: 0.62\n",
      "Macro F1 Score: 0.37\n",
      "Precision: Class 1: 0.58 Class 2: 0.33  Class 3: 0.44\n",
      "           Class 4: 0.73\n",
      "Recall: Class 1: 0.16 Class 2: 0.19  Class 3: 0.1\n",
      "        Class 4: 0.96\n",
      "\n",
      "\n",
      "Accuracy: 0.69\n",
      "Weighted F1 Score: 0.62\n",
      "Macro F1 Score: 0.37\n",
      "Precision: Class 1: 0.39 Class 2: 0.44  Class 3: 0.43\n",
      "           Class 4: 0.73\n",
      "Recall: Class 1: 0.16 Class 2: 0.29  Class 3: 0.04\n",
      "        Class 4: 0.96\n",
      "\n",
      "\n"
     ]
    }
   ],
   "source": [
    "clf = RandomForestClassifier(random_state = SEED)\n",
    "clf_results = loops.loop_model(clf, df, train_indices, valid_indices, inc_cm=False)\n"
   ]
  },
  {
   "cell_type": "code",
   "execution_count": 8,
   "metadata": {},
   "outputs": [
    {
     "data": {
      "text/plain": [
       "{'accuracy': 0.6807973290326231,\n",
       " 'f1': 0.6178342646334354,\n",
       " 'Macro f1': 0.3696063708466068,\n",
       " 'recall_1': 0.171010101010101,\n",
       " 'precision_1': 0.48437314319667263,\n",
       " 'recall_2': 0.24415219611848826,\n",
       " 'precision_2': 0.37405578653277366,\n",
       " 'recall_3': 0.0647887323943662,\n",
       " 'precision_3': 0.3512698412698413,\n",
       " 'recall_4': 0.9493396288281198,\n",
       " 'precision_4': 0.7297469089790025}"
      ]
     },
     "execution_count": 8,
     "metadata": {},
     "output_type": "execute_result"
    }
   ],
   "source": [
    "avg_clf = analyze_k.average_outcome(clf_results)\n",
    "avg_clf"
   ]
  },
  {
   "attachments": {},
   "cell_type": "markdown",
   "metadata": {},
   "source": [
    "#### Logistic Regression"
   ]
  },
  {
   "cell_type": "code",
   "execution_count": 9,
   "metadata": {},
   "outputs": [
    {
     "name": "stdout",
     "output_type": "stream",
     "text": [
      "Accuracy: 0.66\n",
      "Weighted F1 Score: 0.55\n",
      "Macro F1 Score: 0.25\n",
      "Precision: Class 1: 0.5 Class 2: 0.33  Class 3: 0.0\n",
      "           Class 4: 0.68\n",
      "Recall: Class 1: 0.02 Class 2: 0.1  Class 3: 0.0\n",
      "        Class 4: 0.98\n",
      "\n",
      "\n",
      "Accuracy: 0.65\n",
      "Weighted F1 Score: 0.54\n",
      "Macro F1 Score: 0.23\n",
      "Precision: Class 1: 1.0 Class 2: 0.19  Class 3: 0.29\n",
      "           Class 4: 0.68\n",
      "Recall: Class 1: 0.0 Class 2: 0.05  Class 3: 0.03\n",
      "        Class 4: 0.98\n",
      "\n",
      "\n",
      "Accuracy: 0.66\n",
      "Weighted F1 Score: 0.57\n",
      "Macro F1 Score: 0.28\n",
      "Precision: Class 1: 0.38 Class 2: 0.35  Class 3: 0.0\n",
      "           Class 4: 0.69\n",
      "Recall: Class 1: 0.11 Class 2: 0.1  Class 3: 0.0\n",
      "        Class 4: 0.97\n",
      "\n",
      "\n",
      "Accuracy: 0.66\n",
      "Weighted F1 Score: 0.56\n",
      "Macro F1 Score: 0.24\n",
      "Precision: Class 1: 1.0 Class 2: 0.37  Class 3: 0.0\n",
      "           Class 4: 0.68\n",
      "Recall: Class 1: 0.0 Class 2: 0.11  Class 3: 0.0\n",
      "        Class 4: 0.98\n",
      "\n",
      "\n",
      "Accuracy: 0.67\n",
      "Weighted F1 Score: 0.57\n",
      "Macro F1 Score: 0.26\n",
      "Precision: Class 1: 1.0 Class 2: 0.39  Class 3: 0.43\n",
      "           Class 4: 0.69\n",
      "Recall: Class 1: 0.0 Class 2: 0.1  Class 3: 0.04\n",
      "        Class 4: 0.99\n",
      "\n",
      "\n"
     ]
    }
   ],
   "source": [
    "lr = LogisticRegression(solver='liblinear', penalty='l2')\n",
    "lr_results = loops.loop_model(lr, df, train_indices, valid_indices, inc_cm=False)"
   ]
  },
  {
   "cell_type": "code",
   "execution_count": 10,
   "metadata": {},
   "outputs": [
    {
     "data": {
      "text/plain": [
       "{'accuracy': 0.6619619160795632,\n",
       " 'f1': 0.556551415586653,\n",
       " 'Macro f1': 0.2543954314948792,\n",
       " 'recall_1': 0.026767676767676767,\n",
       " 'precision_1': 0.7769230769230769,\n",
       " 'recall_2': 0.09272216547497447,\n",
       " 'precision_2': 0.32632761763196544,\n",
       " 'recall_3': 0.014084507042253521,\n",
       " 'precision_3': 0.14285714285714285,\n",
       " 'recall_4': 0.9805587251623058,\n",
       " 'precision_4': 0.6821442624804972}"
      ]
     },
     "execution_count": 10,
     "metadata": {},
     "output_type": "execute_result"
    }
   ],
   "source": [
    "avg_lr = analyze_k.average_outcome(lr_results)\n",
    "avg_lr"
   ]
  },
  {
   "attachments": {},
   "cell_type": "markdown",
   "metadata": {},
   "source": [
    "### Final Models"
   ]
  },
  {
   "attachments": {},
   "cell_type": "markdown",
   "metadata": {},
   "source": [
    "#### Naive Bayes"
   ]
  },
  {
   "cell_type": "code",
   "execution_count": 11,
   "metadata": {},
   "outputs": [
    {
     "name": "stdout",
     "output_type": "stream",
     "text": [
      "Accuracy: 0.62\n",
      "Weighted F1 Score: 0.59\n",
      "Macro F1 Score: 0.33\n",
      "Precision: Class 1: 0.17 Class 2: 0.31  Class 3: 0.0\n",
      "           Class 4: 0.77\n",
      "Recall: Class 1: 0.11 Class 2: 0.49  Class 3: 0.0\n",
      "        Class 4: 0.82\n",
      "\n",
      "\n",
      "Accuracy: 0.63\n",
      "Weighted F1 Score: 0.61\n",
      "Macro F1 Score: 0.34\n",
      "Precision: Class 1: 0.18 Class 2: 0.27  Class 3: 0.36\n",
      "           Class 4: 0.8\n",
      "Recall: Class 1: 0.09 Class 2: 0.47  Class 3: 0.06\n",
      "        Class 4: 0.83\n",
      "\n",
      "\n",
      "Accuracy: 0.64\n",
      "Weighted F1 Score: 0.61\n",
      "Macro F1 Score: 0.37\n",
      "Precision: Class 1: 0.16 Class 2: 0.4  Class 3: 0.24\n",
      "           Class 4: 0.77\n",
      "Recall: Class 1: 0.24 Class 2: 0.32  Class 3: 0.07\n",
      "        Class 4: 0.86\n",
      "\n",
      "\n",
      "Accuracy: 0.61\n",
      "Weighted F1 Score: 0.57\n",
      "Macro F1 Score: 0.31\n",
      "Precision: Class 1: 0.15 Class 2: 0.26  Class 3: 0.2\n",
      "           Class 4: 0.75\n",
      "Recall: Class 1: 0.05 Class 2: 0.43  Class 3: 0.03\n",
      "        Class 4: 0.81\n",
      "\n",
      "\n",
      "Accuracy: 0.63\n",
      "Weighted F1 Score: 0.6\n",
      "Macro F1 Score: 0.35\n",
      "Precision: Class 1: 0.19 Class 2: 0.31  Class 3: 0.36\n",
      "           Class 4: 0.76\n",
      "Recall: Class 1: 0.09 Class 2: 0.46  Class 3: 0.07\n",
      "        Class 4: 0.84\n",
      "\n",
      "\n"
     ]
    }
   ],
   "source": [
    "nb = ComplementNB()\n",
    "nb_results = loops.loop_model(nb, df, train_indices, valid_indices, oversample=ld.gen_SMOTE_data, scaler=scaler, inc_cm=False)"
   ]
  },
  {
   "cell_type": "code",
   "execution_count": 12,
   "metadata": {},
   "outputs": [
    {
     "data": {
      "text/plain": [
       "{'accuracy': 0.625626573861868,\n",
       " 'f1': 0.5968381578946687,\n",
       " 'Macro f1': 0.3392767645689586,\n",
       " 'recall_1': 0.11666666666666667,\n",
       " 'precision_1': 0.17139725945696097,\n",
       " 'recall_2': 0.4341930541368743,\n",
       " 'precision_2': 0.3091653554313483,\n",
       " 'recall_3': 0.04507042253521126,\n",
       " 'precision_3': 0.23177489177489177,\n",
       " 'recall_4': 0.8321411240081316,\n",
       " 'precision_4': 0.7701074508014218}"
      ]
     },
     "execution_count": 12,
     "metadata": {},
     "output_type": "execute_result"
    }
   ],
   "source": [
    "avg_nb = analyze_k.average_outcome(nb_results)\n",
    "avg_nb"
   ]
  },
  {
   "cell_type": "code",
   "execution_count": 13,
   "metadata": {},
   "outputs": [
    {
     "name": "stdout",
     "output_type": "stream",
     "text": [
      "Accuracy: 0.67\n",
      "Weighted F1 Score: 0.58\n",
      "Macro F1 Score: 0.29\n",
      "Precision: Class 1: 0.22 Class 2: 0.4  Class 3: 0.33\n",
      "           Class 4: 0.69\n",
      "Recall: Class 1: 0.05 Class 2: 0.16  Class 3: 0.03\n",
      "        Class 4: 0.97\n",
      "\n",
      "\n",
      "Accuracy: 0.65\n",
      "Weighted F1 Score: 0.57\n",
      "Macro F1 Score: 0.29\n",
      "Precision: Class 1: 0.25 Class 2: 0.29  Class 3: 0.2\n",
      "           Class 4: 0.7\n",
      "Recall: Class 1: 0.09 Class 2: 0.14  Class 3: 0.01\n",
      "        Class 4: 0.95\n",
      "\n",
      "\n",
      "Accuracy: 0.66\n",
      "Weighted F1 Score: 0.57\n",
      "Macro F1 Score: 0.29\n",
      "Precision: Class 1: 0.17 Class 2: 0.35  Class 3: 0.5\n",
      "           Class 4: 0.69\n",
      "Recall: Class 1: 0.04 Class 2: 0.12  Class 3: 0.06\n",
      "        Class 4: 0.96\n",
      "\n",
      "\n",
      "Accuracy: 0.65\n",
      "Weighted F1 Score: 0.57\n",
      "Macro F1 Score: 0.28\n",
      "Precision: Class 1: 0.25 Class 2: 0.23  Class 3: 0.27\n",
      "           Class 4: 0.7\n",
      "Recall: Class 1: 0.07 Class 2: 0.09  Class 3: 0.04\n",
      "        Class 4: 0.96\n",
      "\n",
      "\n",
      "Accuracy: 0.65\n",
      "Weighted F1 Score: 0.56\n",
      "Macro F1 Score: 0.26\n",
      "Precision: Class 1: 0.22 Class 2: 0.31  Class 3: 0.09\n",
      "           Class 4: 0.69\n",
      "Recall: Class 1: 0.05 Class 2: 0.09  Class 3: 0.01\n",
      "        Class 4: 0.97\n",
      "\n",
      "\n"
     ]
    }
   ],
   "source": [
    "knn = KNeighborsClassifier(n_neighbors=15, weights='distance')\n",
    "knn_results = loops.loop_model(knn, df, train_indices, valid_indices, scaler=scaler, var_thresh=True, inc_cm=False)"
   ]
  },
  {
   "cell_type": "code",
   "execution_count": 14,
   "metadata": {},
   "outputs": [
    {
     "data": {
      "text/plain": [
       "{'accuracy': 0.6575825481707834,\n",
       " 'f1': 0.5690542817375487,\n",
       " 'Macro f1': 0.28159595448080627,\n",
       " 'recall_1': 0.05848484848484849,\n",
       " 'precision_1': 0.22222222222222224,\n",
       " 'recall_2': 0.11989274770173645,\n",
       " 'precision_2': 0.31536334633108826,\n",
       " 'recall_3': 0.03098591549295775,\n",
       " 'precision_3': 0.27939393939393936,\n",
       " 'recall_4': 0.9611095809561283,\n",
       " 'precision_4': 0.6943089576936049}"
      ]
     },
     "execution_count": 14,
     "metadata": {},
     "output_type": "execute_result"
    }
   ],
   "source": [
    "avg_knn = analyze_k.average_outcome(knn_results)\n",
    "avg_knn"
   ]
  },
  {
   "cell_type": "code",
   "execution_count": 15,
   "metadata": {},
   "outputs": [
    {
     "name": "stdout",
     "output_type": "stream",
     "text": [
      "Accuracy: 0.66\n",
      "Weighted F1 Score: 0.62\n",
      "Macro F1 Score: 0.37\n",
      "Precision: Class 1: 0.47 Class 2: 0.31  Class 3: 0.2\n",
      "           Class 4: 0.75\n",
      "Recall: Class 1: 0.2 Class 2: 0.27  Class 3: 0.07\n",
      "        Class 4: 0.91\n",
      "\n",
      "\n",
      "Accuracy: 0.67\n",
      "Weighted F1 Score: 0.6\n",
      "Macro F1 Score: 0.34\n",
      "Precision: Class 1: 0.33 Class 2: 0.35  Class 3: 0.06\n",
      "           Class 4: 0.74\n",
      "Recall: Class 1: 0.2 Class 2: 0.22  Class 3: 0.01\n",
      "        Class 4: 0.94\n",
      "\n",
      "\n",
      "Accuracy: 0.66\n",
      "Weighted F1 Score: 0.61\n",
      "Macro F1 Score: 0.34\n",
      "Precision: Class 1: 0.31 Class 2: 0.31  Class 3: 0.22\n",
      "           Class 4: 0.74\n",
      "Recall: Class 1: 0.09 Class 2: 0.26  Class 3: 0.07\n",
      "        Class 4: 0.92\n",
      "\n",
      "\n",
      "Accuracy: 0.66\n",
      "Weighted F1 Score: 0.61\n",
      "Macro F1 Score: 0.35\n",
      "Precision: Class 1: 0.42 Class 2: 0.28  Class 3: 0.27\n",
      "           Class 4: 0.74\n",
      "Recall: Class 1: 0.11 Class 2: 0.2  Class 3: 0.1\n",
      "        Class 4: 0.93\n",
      "\n",
      "\n",
      "Accuracy: 0.68\n",
      "Weighted F1 Score: 0.63\n",
      "Macro F1 Score: 0.4\n",
      "Precision: Class 1: 0.42 Class 2: 0.42  Class 3: 0.26\n",
      "           Class 4: 0.75\n",
      "Recall: Class 1: 0.25 Class 2: 0.31  Class 3: 0.07\n",
      "        Class 4: 0.92\n",
      "\n",
      "\n"
     ]
    }
   ],
   "source": [
    "# set seed to its value in Random_Forest, where extensive testing occurred\n",
    "SEED = 0\n",
    "\n",
    "X_smote, y_smote = ld.gen_SMOTE_data(df, seed=SEED)\n",
    "\n",
    "clf = RandomForestClassifier(random_state = SEED, \n",
    "                            n_estimators = 400,\n",
    "                            min_samples_split = 2,\n",
    "                            min_samples_leaf = 1,\n",
    "                            max_features = 'sqrt',\n",
    "                            max_depth = None,\n",
    "                            bootstrap = False)\n",
    "\n",
    "clf.fit(X_smote, y_smote)\n",
    "\n",
    "clf_results = loops.loop_model(clf, df, train_indices, valid_indices, scaler=scaler, var_thresh=True, inc_cm=False)"
   ]
  },
  {
   "cell_type": "code",
   "execution_count": 16,
   "metadata": {},
   "outputs": [
    {
     "data": {
      "text/plain": [
       "{'accuracy': 0.6659983589395354,\n",
       " 'f1': 0.6136997986311203,\n",
       " 'Macro f1': 0.36067074158010837,\n",
       " 'recall_1': 0.1714141414141414,\n",
       " 'precision_1': 0.39089068825910933,\n",
       " 'recall_2': 0.25321756894790604,\n",
       " 'precision_2': 0.33430409430409436,\n",
       " 'recall_3': 0.0647887323943662,\n",
       " 'precision_3': 0.20172069954544042,\n",
       " 'recall_4': 0.9247688373008067,\n",
       " 'precision_4': 0.7439794654067113}"
      ]
     },
     "execution_count": 16,
     "metadata": {},
     "output_type": "execute_result"
    }
   ],
   "source": [
    "avg_clf = analyze_k.average_outcome(clf_results)\n",
    "avg_clf"
   ]
  },
  {
   "cell_type": "code",
   "execution_count": 17,
   "metadata": {},
   "outputs": [],
   "source": [
    "# Change seed back to original value\n",
    "SEED = 12"
   ]
  },
  {
   "attachments": {},
   "cell_type": "markdown",
   "metadata": {},
   "source": [
    "#### Logistic Regression"
   ]
  },
  {
   "cell_type": "code",
   "execution_count": 18,
   "metadata": {},
   "outputs": [
    {
     "name": "stdout",
     "output_type": "stream",
     "text": [
      "Accuracy: 0.58\n",
      "Weighted F1 Score: 0.6\n",
      "Macro F1 Score: 0.41\n",
      "Precision: Class 1: 0.29 Class 2: 0.26  Class 3: 0.38\n",
      "           Class 4: 0.86\n",
      "Recall: Class 1: 0.18 Class 2: 0.65  Class 3: 0.21\n",
      "        Class 4: 0.68\n",
      "\n",
      "\n",
      "Accuracy: 0.6\n",
      "Weighted F1 Score: 0.61\n",
      "Macro F1 Score: 0.38\n",
      "Precision: Class 1: 0.24 Class 2: 0.26  Class 3: 0.29\n",
      "           Class 4: 0.87\n",
      "Recall: Class 1: 0.13 Class 2: 0.61  Class 3: 0.14\n",
      "        Class 4: 0.73\n",
      "\n",
      "\n",
      "Accuracy: 0.58\n",
      "Weighted F1 Score: 0.6\n",
      "Macro F1 Score: 0.38\n",
      "Precision: Class 1: 0.28 Class 2: 0.26  Class 3: 0.25\n",
      "           Class 4: 0.85\n",
      "Recall: Class 1: 0.18 Class 2: 0.61  Class 3: 0.13\n",
      "        Class 4: 0.71\n",
      "\n",
      "\n",
      "Accuracy: 0.62\n",
      "Weighted F1 Score: 0.63\n",
      "Macro F1 Score: 0.43\n",
      "Precision: Class 1: 0.43 Class 2: 0.26  Class 3: 0.35\n",
      "           Class 4: 0.83\n",
      "Recall: Class 1: 0.27 Class 2: 0.51  Class 3: 0.18\n",
      "        Class 4: 0.76\n",
      "\n",
      "\n",
      "Accuracy: 0.61\n",
      "Weighted F1 Score: 0.61\n",
      "Macro F1 Score: 0.35\n",
      "Precision: Class 1: 0.2 Class 2: 0.27  Class 3: 0.23\n",
      "           Class 4: 0.83\n",
      "Recall: Class 1: 0.02 Class 2: 0.54  Class 3: 0.14\n",
      "        Class 4: 0.78\n",
      "\n",
      "\n"
     ]
    },
    {
     "data": {
      "text/plain": [
       "{'accuracy': 0.5990691225985343,\n",
       " 'f1': 0.6094784751413637,\n",
       " 'Macro f1': 0.3886647471535647,\n",
       " 'recall_1': 0.1576767676767677,\n",
       " 'precision_1': 0.2860295566502463,\n",
       " 'recall_2': 0.5859295199182839,\n",
       " 'precision_2': 0.26447264437983353,\n",
       " 'recall_3': 0.16056338028169015,\n",
       " 'precision_3': 0.3025285045120886,\n",
       " 'recall_4': 0.7318591383041511,\n",
       " 'precision_4': 0.8476484619909062}"
      ]
     },
     "execution_count": 18,
     "metadata": {},
     "output_type": "execute_result"
    },
    {
     "data": {
      "image/png": "[encoded data removed]",
      "text/plain": [
       "<Figure size 640x480 with 2 Axes>"
      ]
     },
     "metadata": {},
     "output_type": "display_data"
    },
    {
     "data": {
      "image/png": "[encoded data removed]",
      "text/plain": [
       "<Figure size 640x480 with 2 Axes>"
      ]
     },
     "metadata": {},
     "output_type": "display_data"
    },
    {
     "data": {
      "image/png": "[encoded data removed]",
      "text/plain": [
       "<Figure size 640x480 with 2 Axes>"
      ]
     },
     "metadata": {},
     "output_type": "display_data"
    },
    {
     "data": {
      "image/png": "[encoded data removed]",
      "text/plain": [
       "<Figure size 640x480 with 2 Axes>"
      ]
     },
     "metadata": {},
     "output_type": "display_data"
    },
    {
     "data": {
      "image/png": "[encoded data removed]",
      "text/plain": [
       "<Figure size 640x480 with 2 Axes>"
      ]
     },
     "metadata": {},
     "output_type": "display_data"
    }
   ],
   "source": [
    "reg = LogisticRegression(solver='liblinear', penalty='l2')\n",
    "results = loops.loop_model(reg,df,train_indices,valid_indices,oversample=ld.gen_SMOTE_data,var_thresh=True)\n",
    "avg = analyze_k.average_outcome(results)\n",
    "avg\n"
   ]
  },
  {
   "cell_type": "code",
   "execution_count": 19,
   "metadata": {},
   "outputs": [
    {
     "data": {
      "text/plain": [
       "{'accuracy': 0.6619619160795632,\n",
       " 'f1': 0.556551415586653,\n",
       " 'Macro f1': 0.2543954314948792,\n",
       " 'recall_1': 0.026767676767676767,\n",
       " 'precision_1': 0.7769230769230769,\n",
       " 'recall_2': 0.09272216547497447,\n",
       " 'precision_2': 0.32632761763196544,\n",
       " 'recall_3': 0.014084507042253521,\n",
       " 'precision_3': 0.14285714285714285,\n",
       " 'recall_4': 0.9805587251623058,\n",
       " 'precision_4': 0.6821442624804972}"
      ]
     },
     "execution_count": 19,
     "metadata": {},
     "output_type": "execute_result"
    }
   ],
   "source": [
    "avg_lr = analyze_k.average_outcome(lr_results)\n",
    "avg_lr"
   ]
  },
  {
   "attachments": {},
   "cell_type": "markdown",
   "metadata": {},
   "source": [
    "# Two Stage Classification"
   ]
  },
  {
   "cell_type": "code",
   "execution_count": 20,
   "metadata": {},
   "outputs": [
    {
     "name": "stdout",
     "output_type": "stream",
     "text": [
      "Accuracy: 0.61\n",
      "Weighted F1 Score: 0.62\n",
      "Macro F1 Score: 0.43\n",
      "Precision: Class 1: 0.33 Class 2: 0.25  Class 3: 0.3\n",
      "           Class 4: 0.83\n",
      "Recall: Class 1: 0.3 Class 2: 0.36  Class 3: 0.29\n",
      "        Class 4: 0.76\n",
      "\n",
      "\n",
      "Accuracy: 0.67\n",
      "Weighted F1 Score: 0.61\n",
      "Macro F1 Score: 0.35\n",
      "Precision: Class 1: 0.75 Class 2: 0.34  Class 3: 0.28\n",
      "           Class 4: 0.75\n",
      "Recall: Class 1: 0.07 Class 2: 0.36  Class 3: 0.06\n",
      "        Class 4: 0.93\n",
      "\n",
      "\n"
     ]
    },
    {
     "data": {
      "image/png": "[encoded data removed]",
      "text/plain": [
       "<Figure size 640x480 with 2 Axes>"
      ]
     },
     "metadata": {},
     "output_type": "display_data"
    },
    {
     "data": {
      "image/png": "[encoded data removed]",
      "text/plain": [
       "<Figure size 640x480 with 2 Axes>"
      ]
     },
     "metadata": {},
     "output_type": "display_data"
    }
   ],
   "source": [
    "X = df.drop(columns=\"Target\")\n",
    "y = df.loc[:, 'Target']\n",
    "\n",
    "X_train, X_valid, y_train, y_valid = train_test_split(X, y, test_size=0.2, random_state=42)\n",
    "train = pd.concat([X_train, y_train], axis=1)\n",
    "train_df_resampled, train_y_resampled = ld.gen_oversample_data(train, seed = 12)\n",
    "X_smote, y_smote = ld.gen_SMOTE_data(train, seed = 12)\n",
    "\n",
    "\n",
    "def Two_stage(model1, model2):\n",
    "    #Fit First Layer\n",
    "    reg=model1.fit(X_smote, y_smote)\n",
    "    y_pred = reg.predict(X_valid)\n",
    "   \n",
    "    #Take first layer predictions and get rid of obs we predicted\n",
    "    #4 on in test set\n",
    "    y_pred= pd.DataFrame(y_pred, columns=[\"pred\"])\n",
    "    a= pd.concat([X_valid.reset_index(drop=True), y_pred], axis=1)\n",
    "    new_test_set= a.loc[a.loc[:,\"pred\"]!= 4,:]\n",
    "\n",
    "    #Run Layer 2 on non-4 obs\n",
    "    rev_dataset=pd.concat([X_smote, y_smote], axis=1)\n",
    "    rev_dataset= rev_dataset.loc[rev_dataset.loc[:,\"Target\"]!= 4, :]\n",
    "    Y= rev_dataset.loc[:,\"Target\"]\n",
    "    X= rev_dataset.drop(columns=\"Target\")\n",
    "    reg= model2.fit(X, Y)\n",
    "\n",
    "    #run fit on revised test set\n",
    "    new_pred = reg.predict(new_test_set.drop(columns=\"pred\"))\n",
    "    #combine predictions\n",
    "    a.loc[a.loc[:,\"pred\"]!= 4,\"pred\"]=new_pred\n",
    "    #evaluate\n",
    "    evaluate_classification(a.loc[:,\"pred\"], y_true = y_valid, l=[1,2,3,4], cm = True)\n",
    "\n",
    "\n",
    "Two_stage(LogisticRegression(solver='liblinear', penalty='l2'),RandomForestClassifier(random_state = 12,\n",
    "                        n_estimators = 1600,\n",
    "                        min_samples_split = 2,\n",
    "                       min_samples_leaf = 1,\n",
    "                       max_features = 'sqrt',\n",
    "                       max_depth = 100,\n",
    "                       bootstrap = False) )\n",
    "Two_stage(RandomForestClassifier(random_state = 12,\n",
    "                        n_estimators = 1600,\n",
    "                        min_samples_split = 2,\n",
    "                       min_samples_leaf = 1,\n",
    "                       max_features = 'sqrt',\n",
    "                       max_depth = 100,\n",
    "                       bootstrap = False),LogisticRegression(solver='liblinear', penalty='l2'))"
   ]
  },
  {
   "attachments": {},
   "cell_type": "markdown",
   "metadata": {},
   "source": [
    "## Binary Model"
   ]
  },
  {
   "cell_type": "code",
   "execution_count": 21,
   "metadata": {},
   "outputs": [],
   "source": [
    "# Recode target classes in the DataFrame\n",
    "df['Target'] = df['Target'].replace({1: 1, 2: 1, 3: 0, 4: 0})"
   ]
  },
  {
   "attachments": {},
   "cell_type": "markdown",
   "metadata": {},
   "source": [
    "### Naive Bayes"
   ]
  },
  {
   "cell_type": "code",
   "execution_count": 22,
   "metadata": {},
   "outputs": [
    {
     "name": "stdout",
     "output_type": "stream",
     "text": [
      "Accuracy: 0.75\n",
      "Weighted F1 Score: 0.77\n",
      "Macro F1 Score: 0.7\n",
      "Precision: Experiencing Poverty: 0.47 Not Experiencing Poverty: 0.93\n",
      "Recall: Experiencing Poverty: 0.8 Not Experiencing Poverty: 0.73\n",
      "\n",
      "\n",
      "Accuracy: 0.72\n",
      "Weighted F1 Score: 0.74\n",
      "Macro F1 Score: 0.67\n",
      "Precision: Experiencing Poverty: 0.43 Not Experiencing Poverty: 0.9\n",
      "Recall: Experiencing Poverty: 0.72 Not Experiencing Poverty: 0.72\n",
      "\n",
      "\n",
      "Accuracy: 0.73\n",
      "Weighted F1 Score: 0.75\n",
      "Macro F1 Score: 0.67\n",
      "Precision: Experiencing Poverty: 0.43 Not Experiencing Poverty: 0.9\n",
      "Recall: Experiencing Poverty: 0.71 Not Experiencing Poverty: 0.73\n",
      "\n",
      "\n",
      "Accuracy: 0.73\n",
      "Weighted F1 Score: 0.74\n",
      "Macro F1 Score: 0.66\n",
      "Precision: Experiencing Poverty: 0.43 Not Experiencing Poverty: 0.89\n",
      "Recall: Experiencing Poverty: 0.67 Not Experiencing Poverty: 0.74\n",
      "\n",
      "\n",
      "Accuracy: 0.72\n",
      "Weighted F1 Score: 0.74\n",
      "Macro F1 Score: 0.66\n",
      "Precision: Experiencing Poverty: 0.42 Not Experiencing Poverty: 0.88\n",
      "Recall: Experiencing Poverty: 0.65 Not Experiencing Poverty: 0.74\n",
      "\n",
      "\n"
     ]
    }
   ],
   "source": [
    "nb_results = loops.loop_model(nb, df, train_indices, valid_indices, scaler=scaler, inc_cm=False)"
   ]
  },
  {
   "cell_type": "code",
   "execution_count": 23,
   "metadata": {},
   "outputs": [
    {
     "data": {
      "text/plain": [
       "{'accuracy': 0.7292255892255893,\n",
       " 'f1': 0.7481186203520743,\n",
       " 'Macro f1': 0.6736515839684861,\n",
       " 'recall_non_pov': 0.7345202880994638,\n",
       " 'recall_pov': 0.710788334472545,\n",
       " 'precision_non_pov': 0.8986702256191526,\n",
       " 'precision_pov': 0.43446361181483895}"
      ]
     },
     "execution_count": 23,
     "metadata": {},
     "output_type": "execute_result"
    }
   ],
   "source": [
    "avg_nb = analyze_k.average_outcome(nb_results)\n",
    "avg_nb"
   ]
  },
  {
   "attachments": {},
   "cell_type": "markdown",
   "metadata": {},
   "source": [
    "#### Random Forest"
   ]
  },
  {
   "cell_type": "code",
   "execution_count": 24,
   "metadata": {},
   "outputs": [
    {
     "name": "stdout",
     "output_type": "stream",
     "text": [
      "Accuracy: 0.81\n",
      "Weighted F1 Score: 0.79\n",
      "Macro F1 Score: 0.68\n",
      "Precision: Experiencing Poverty: 0.64 Not Experiencing Poverty: 0.84\n",
      "Recall: Experiencing Poverty: 0.37 Not Experiencing Poverty: 0.94\n",
      "\n",
      "\n",
      "Accuracy: 0.79\n",
      "Weighted F1 Score: 0.77\n",
      "Macro F1 Score: 0.65\n",
      "Precision: Experiencing Poverty: 0.57 Not Experiencing Poverty: 0.83\n",
      "Recall: Experiencing Poverty: 0.33 Not Experiencing Poverty: 0.93\n",
      "\n",
      "\n",
      "Accuracy: 0.79\n",
      "Weighted F1 Score: 0.76\n",
      "Macro F1 Score: 0.63\n",
      "Precision: Experiencing Poverty: 0.54 Not Experiencing Poverty: 0.82\n",
      "Recall: Experiencing Poverty: 0.3 Not Experiencing Poverty: 0.93\n",
      "\n",
      "\n",
      "Accuracy: 0.82\n",
      "Weighted F1 Score: 0.8\n",
      "Macro F1 Score: 0.69\n",
      "Precision: Experiencing Poverty: 0.71 Not Experiencing Poverty: 0.84\n",
      "Recall: Experiencing Poverty: 0.36 Not Experiencing Poverty: 0.96\n",
      "\n",
      "\n",
      "Accuracy: 0.82\n",
      "Weighted F1 Score: 0.8\n",
      "Macro F1 Score: 0.69\n",
      "Precision: Experiencing Poverty: 0.65 Not Experiencing Poverty: 0.84\n",
      "Recall: Experiencing Poverty: 0.4 Not Experiencing Poverty: 0.94\n",
      "\n",
      "\n"
     ]
    }
   ],
   "source": [
    "clf_results = loops.loop_model(clf, df, train_indices, valid_indices, scaler=scaler, inc_cm=False)"
   ]
  },
  {
   "cell_type": "code",
   "execution_count": 25,
   "metadata": {},
   "outputs": [
    {
     "data": {
      "text/plain": [
       "{'accuracy': 0.8072749908044026,\n",
       " 'f1': 0.7863164280194717,\n",
       " 'Macro f1': 0.6663396855750439,\n",
       " 'recall_non_pov': 0.9380689447934568,\n",
       " 'recall_pov': 0.35242652084757353,\n",
       " 'precision_non_pov': 0.8343758100701326,\n",
       " 'precision_pov': 0.6217072177856492}"
      ]
     },
     "execution_count": 25,
     "metadata": {},
     "output_type": "execute_result"
    }
   ],
   "source": [
    "avg_clf = analyze_k.average_outcome(clf_results)\n",
    "avg_clf"
   ]
  },
  {
   "attachments": {},
   "cell_type": "markdown",
   "metadata": {},
   "source": [
    "#### KNN"
   ]
  },
  {
   "cell_type": "code",
   "execution_count": 26,
   "metadata": {},
   "outputs": [
    {
     "name": "stdout",
     "output_type": "stream",
     "text": [
      "Accuracy: 0.78\n",
      "Weighted F1 Score: 0.72\n",
      "Macro F1 Score: 0.54\n",
      "Precision: Experiencing Poverty: 0.53 Not Experiencing Poverty: 0.79\n",
      "Recall: Experiencing Poverty: 0.13 Not Experiencing Poverty: 0.97\n",
      "\n",
      "\n",
      "Accuracy: 0.8\n",
      "Weighted F1 Score: 0.77\n",
      "Macro F1 Score: 0.62\n",
      "Precision: Experiencing Poverty: 0.66 Not Experiencing Poverty: 0.82\n",
      "Recall: Experiencing Poverty: 0.25 Not Experiencing Poverty: 0.96\n",
      "\n",
      "\n",
      "Accuracy: 0.78\n",
      "Weighted F1 Score: 0.72\n",
      "Macro F1 Score: 0.53\n",
      "Precision: Experiencing Poverty: 0.5 Not Experiencing Poverty: 0.79\n",
      "Recall: Experiencing Poverty: 0.11 Not Experiencing Poverty: 0.97\n",
      "\n",
      "\n",
      "Accuracy: 0.78\n",
      "Weighted F1 Score: 0.73\n",
      "Macro F1 Score: 0.56\n",
      "Precision: Experiencing Poverty: 0.55 Not Experiencing Poverty: 0.8\n",
      "Recall: Experiencing Poverty: 0.16 Not Experiencing Poverty: 0.96\n",
      "\n",
      "\n",
      "Accuracy: 0.78\n",
      "Weighted F1 Score: 0.72\n",
      "Macro F1 Score: 0.54\n",
      "Precision: Experiencing Poverty: 0.52 Not Experiencing Poverty: 0.79\n",
      "Recall: Experiencing Poverty: 0.13 Not Experiencing Poverty: 0.97\n",
      "\n",
      "\n"
     ]
    }
   ],
   "source": [
    "knn_results = loops.loop_model(knn, df, train_indices, valid_indices, scaler=scaler, inc_cm=False)"
   ]
  },
  {
   "cell_type": "code",
   "execution_count": 27,
   "metadata": {},
   "outputs": [
    {
     "data": {
      "text/plain": [
       "{'accuracy': 0.7843906855671562,\n",
       " 'f1': 0.7327643703066788,\n",
       " 'Macro f1': 0.557425329355331,\n",
       " 'recall_non_pov': 0.9653529406240903,\n",
       " 'recall_pov': 0.15512645249487353,\n",
       " 'precision_non_pov': 0.7990422442522206,\n",
       " 'precision_pov': 0.5518066188197768}"
      ]
     },
     "execution_count": 27,
     "metadata": {},
     "output_type": "execute_result"
    }
   ],
   "source": [
    "avg_knn = analyze_k.average_outcome(knn_results)\n",
    "avg_knn"
   ]
  },
  {
   "attachments": {},
   "cell_type": "markdown",
   "metadata": {},
   "source": [
    "#### Logistic Regression"
   ]
  },
  {
   "cell_type": "code",
   "execution_count": 28,
   "metadata": {},
   "outputs": [
    {
     "name": "stdout",
     "output_type": "stream",
     "text": [
      "Accuracy: 0.66\n",
      "Weighted F1 Score: 0.69\n",
      "Macro F1 Score: 0.62\n",
      "Precision: Experiencing Poverty: 0.37 Not Experiencing Poverty: 0.89\n",
      "Recall: Experiencing Poverty: 0.74 Not Experiencing Poverty: 0.64\n",
      "\n",
      "\n",
      "Accuracy: 0.68\n",
      "Weighted F1 Score: 0.7\n",
      "Macro F1 Score: 0.63\n",
      "Precision: Experiencing Poverty: 0.38 Not Experiencing Poverty: 0.89\n",
      "Recall: Experiencing Poverty: 0.72 Not Experiencing Poverty: 0.66\n",
      "\n",
      "\n",
      "Accuracy: 0.68\n",
      "Weighted F1 Score: 0.7\n",
      "Macro F1 Score: 0.63\n",
      "Precision: Experiencing Poverty: 0.39 Not Experiencing Poverty: 0.9\n",
      "Recall: Experiencing Poverty: 0.74 Not Experiencing Poverty: 0.66\n",
      "\n",
      "\n",
      "Accuracy: 0.7\n",
      "Weighted F1 Score: 0.73\n",
      "Macro F1 Score: 0.65\n",
      "Precision: Experiencing Poverty: 0.4 Not Experiencing Poverty: 0.89\n",
      "Recall: Experiencing Poverty: 0.7 Not Experiencing Poverty: 0.71\n",
      "\n",
      "\n",
      "Accuracy: 0.66\n",
      "Weighted F1 Score: 0.68\n",
      "Macro F1 Score: 0.6\n",
      "Precision: Experiencing Poverty: 0.35 Not Experiencing Poverty: 0.86\n",
      "Recall: Experiencing Poverty: 0.64 Not Experiencing Poverty: 0.66\n",
      "\n",
      "\n"
     ]
    },
    {
     "data": {
      "text/plain": [
       "{'accuracy': 0.676088051382169,\n",
       " 'f1': 0.7018519202718082,\n",
       " 'Macro f1': 0.6277774279475816,\n",
       " 'recall_non_pov': 0.6669540148932773,\n",
       " 'recall_pov': 0.7078149920255183,\n",
       " 'precision_non_pov': 0.888309123983295,\n",
       " 'precision_pov': 0.3795966280089983}"
      ]
     },
     "execution_count": 28,
     "metadata": {},
     "output_type": "execute_result"
    },
    {
     "data": {
      "image/png": "[encoded data removed]",
      "text/plain": [
       "<Figure size 640x480 with 2 Axes>"
      ]
     },
     "metadata": {},
     "output_type": "display_data"
    },
    {
     "data": {
      "image/png": "[encoded data removed]",
      "text/plain": [
       "<Figure size 640x480 with 2 Axes>"
      ]
     },
     "metadata": {},
     "output_type": "display_data"
    },
    {
     "data": {
      "image/png": "[encoded data removed]",
      "text/plain": [
       "<Figure size 640x480 with 2 Axes>"
      ]
     },
     "metadata": {},
     "output_type": "display_data"
    },
    {
     "data": {
      "image/png": "[encoded data removed]",
      "text/plain": [
       "<Figure size 640x480 with 2 Axes>"
      ]
     },
     "metadata": {},
     "output_type": "display_data"
    },
    {
     "data": {
      "image/png": "[encoded data removed]",
      "text/plain": [
       "<Figure size 640x480 with 2 Axes>"
      ]
     },
     "metadata": {},
     "output_type": "display_data"
    }
   ],
   "source": [
    "reg = LogisticRegression(solver='liblinear', penalty='l2')\n",
    "results = loops.loop_model(reg,df,train_indices,valid_indices,oversample=ld.gen_SMOTE_data,var_thresh=True)\n",
    "avg = analyze_k.average_outcome(results)\n",
    "avg"
   ]
  },
  {
   "cell_type": "code",
   "execution_count": null,
   "metadata": {},
   "outputs": [],
   "source": []
  },
  {
   "attachments": {},
   "cell_type": "markdown",
   "metadata": {},
   "source": [
    "# Two Stage Binary Model"
   ]
  },
  {
   "cell_type": "code",
   "execution_count": 29,
   "metadata": {},
   "outputs": [
    {
     "ename": "NameError",
     "evalue": "name 'X_test' is not defined",
     "output_type": "error",
     "traceback": [
      "\u001b[0;31m---------------------------------------------------------------------------\u001b[0m",
      "\u001b[0;31mNameError\u001b[0m                                 Traceback (most recent call last)",
      "Cell \u001b[0;32mIn[29], line 6\u001b[0m\n\u001b[1;32m      4\u001b[0m scaler \u001b[39m=\u001b[39m MinMaxScaler()\n\u001b[1;32m      5\u001b[0m X_train_scaled \u001b[39m=\u001b[39m scaler\u001b[39m.\u001b[39mfit_transform(X_train)\n\u001b[0;32m----> 6\u001b[0m X_test_scaled \u001b[39m=\u001b[39m scaler\u001b[39m.\u001b[39mtransform(X_test)\n\u001b[1;32m      8\u001b[0m \u001b[39m# Stage 1: create a binary target separating classes 1/2 from 3/4\u001b[39;00m\n\u001b[1;32m      9\u001b[0m y_train_binary \u001b[39m=\u001b[39m y_train\u001b[39m.\u001b[39mcopy()\n",
      "\u001b[0;31mNameError\u001b[0m: name 'X_test' is not defined"
     ]
    }
   ],
   "source": [
    "from sklearn.preprocessing import MinMaxScaler\n",
    "\n",
    "# Standardize the features\n",
    "scaler = MinMaxScaler()\n",
    "X_train_scaled = scaler.fit_transform(X_train)\n",
    "X_test_scaled = scaler.transform(X_test)\n",
    "\n",
    "# Stage 1: create a binary target separating classes 1/2 from 3/4\n",
    "y_train_binary = y_train.copy()\n",
    "y_train_binary[y_train_binary.isin([1, 2])] = 1\n",
    "y_train_binary[y_train_binary.isin([3, 4])] = 0\n",
    "\n",
    "# Fit the first model\n",
    "model_1_2_vs_3_4 = ComplementNB()\n",
    "model_1_2_vs_3_4.fit(X_train_scaled, y_train_binary)\n",
    "\n",
    "# Make predictions and evaluate\n",
    "y_pred = model_1_2_vs_3_4.predict(X_test_scaled)\n",
    "evaluate_classification(y_pred, y_test)\n",
    "\n",
    "# Stage 2: separate class 1 from class 2\n",
    "mask_1_2 = y_train_binary == 1\n",
    "model_1_vs_2 = ComplementNB()\n",
    "model_1_vs_2.fit(X_train_scaled[mask_1_2], y_train[mask_1_2])\n",
    "\n",
    "# Make predictions and evaluate\n",
    "y_pred = model_1_vs_2.predict(X_test_scaled)\n",
    "evaluate_classification(y_pred, y_test)\n",
    "\n",
    "# Stage 3: separate class 3 from class 4\n",
    "mask_3_4 = y_train_binary == 0\n",
    "model_3_vs_4 = ComplementNB()\n",
    "model_3_vs_4.fit(X_train_scaled[mask_3_4], y_train[mask_3_4])\n",
    "\n",
    "# Make predictions and evaluate\n",
    "y_pred = model_3_vs_4.predict(X_test_scaled)\n",
    "evaluate_classification(y_pred, y_test)"
   ]
  }
 ],
 "metadata": {
  "kernelspec": {
   "display_name": "capp-ml-env",
   "language": "python",
   "name": "python3"
  },
  "language_info": {
   "codemirror_mode": {
    "name": "ipython",
    "version": 3
   },
   "file_extension": ".py",
   "mimetype": "text/x-python",
   "name": "python",
   "nbconvert_exporter": "python",
   "pygments_lexer": "ipython3",
   "version": "3.11.2"
  },
  "orig_nbformat": 4
 },
 "nbformat": 4,
 "nbformat_minor": 2
}
