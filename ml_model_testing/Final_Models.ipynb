{
 "cells": [
  {
   "attachments": {},
   "cell_type": "markdown",
   "metadata": {},
   "source": [
    "## 1. Project Setup"
   ]
  },
  {
   "attachments": {},
   "cell_type": "markdown",
   "metadata": {},
   "source": [
    "**Load Data & Packages**"
   ]
  },
  {
   "cell_type": "code",
   "execution_count": null,
   "metadata": {},
   "outputs": [],
   "source": [
    "import numpy as np\n",
    "from sklearn.naive_bayes import ComplementNB\n",
    "from sklearn.preprocessing import MinMaxScaler\n",
    "import os\n",
    "import analyze_k\n",
    "SEED = 12\n",
    "\n",
    "current_dir = os.getcwd()\n",
    "parent_dir = os.path.dirname(current_dir)\n",
    "os.chdir(parent_dir)\n",
    "\n",
    "import load_data as ld\n",
    "from evaluate_classification import evaluate_classification\n",
    "import loops\n",
    "\n",
    "df, X_valid, y_valid, train_indices, valid_indices = ld.load_train_data(filepath = 'Kaggle_download/train.csv')\n",
    "scaler = MinMaxScaler()"
   ]
  },
  {
   "cell_type": "code",
   "execution_count": null,
   "metadata": {},
   "outputs": [],
   "source": [
    "scaler = MinMaxScaler()\n",
    "X_train = df.iloc[:, :-1]\n",
    "y_train = df.loc[:, 'Target']"
   ]
  },
  {
   "attachments": {},
   "cell_type": "markdown",
   "metadata": {},
   "source": [
    "### Out of the Box"
   ]
  },
  {
   "attachments": {},
   "cell_type": "markdown",
   "metadata": {},
   "source": [
    "#### Naive Bayes"
   ]
  },
  {
   "cell_type": "code",
   "execution_count": null,
   "metadata": {},
   "outputs": [],
   "source": [
    "nb = ComplementNB()\n",
    "nb.fit(X_train, y_train)\n",
    "y_pred = nb.predict(X_valid)\n",
    "evaluate_classification(y_pred, y_valid, cm=False)"
   ]
  },
  {
   "attachments": {},
   "cell_type": "markdown",
   "metadata": {},
   "source": [
    "### KNN "
   ]
  },
  {
   "cell_type": "code",
   "execution_count": null,
   "metadata": {},
   "outputs": [],
   "source": [
    "from sklearn.neighbors import KNeighborsClassifier\n",
    "knn = KNeighborsClassifier(n_neighbors=15, weights='distance')\n",
    "knn.fit(X_train, y_train)\n",
    "y_pred = knn.predict(X_valid)\n",
    "evaluate_classification(y_pred, y_valid, cm=False)"
   ]
  },
  {
   "attachments": {},
   "cell_type": "markdown",
   "metadata": {},
   "source": [
    "#### Random Forest"
   ]
  },
  {
   "cell_type": "code",
   "execution_count": null,
   "metadata": {},
   "outputs": [],
   "source": [
    "from sklearn.ensemble import RandomForestClassifier\n",
    "clf = RandomForestClassifier(random_state = SEED,\n",
    "                            n_estimators = 1600,\n",
    "                            min_samples_split = 2,\n",
    "                            min_samples_leaf = 1,\n",
    "                            max_features = 'sqrt',\n",
    "                            max_depth = 100,\n",
    "                            bootstrap = False\n",
    ")\n",
    "clf.fit(X_train, y_train)\n",
    "y_pred = clf.predict(X_valid)\n",
    "evaluate_classification(y_pred, y_valid, cm=False)\n"
   ]
  },
  {
   "attachments": {},
   "cell_type": "markdown",
   "metadata": {},
   "source": [
    "#### Logistic Regression"
   ]
  },
  {
   "cell_type": "code",
   "execution_count": null,
   "metadata": {},
   "outputs": [],
   "source": [
    "from sklearn.linear_model import LogisticRegression\n",
    "lr = LogisticRegression(solver='liblinear', penalty='l2')\n",
    "lr.fit(X_train, y_train)\n",
    "y_pred = lr.predict(X_valid)\n",
    "evaluate_classification(y_pred, y_valid, cm=False)"
   ]
  },
  {
   "attachments": {},
   "cell_type": "markdown",
   "metadata": {},
   "source": [
    "### Final Models"
   ]
  },
  {
   "attachments": {},
   "cell_type": "markdown",
   "metadata": {},
   "source": [
    "#### Naive Bayes"
   ]
  },
  {
   "cell_type": "code",
   "execution_count": null,
   "metadata": {},
   "outputs": [],
   "source": [
    "nb = ComplementNB()\n",
    "nb_results = loops.loop_model(nb, df, train_indices, valid_indices, scaler=scaler)\n",
    "ind = analyze_k.select_best(nb_results,'recall',4)\n",
    "nb.fit(df.iloc[train_indices[ind],:].drop(columns='Target'), df.iloc[train_indices[ind],[-1]])\n",
    "y_pred = nb.predict(X_valid)\n",
    "print('Final Classification')\n",
    "evaluate_classification(y_pred, y_valid)"
   ]
  },
  {
   "cell_type": "code",
   "execution_count": null,
   "metadata": {},
   "outputs": [],
   "source": [
    "from sklearn.neighbors import KNeighborsClassifier\n",
    "knn = KNeighborsClassifier(n_neighbors=15, weights='distance')\n",
    "knn_results = loops.loop_model(knn, df, train_indices, valid_indices, scaler=scaler)\n",
    "ind = analyze_k.select_best(knn_results,'recall',4)\n",
    "knn.fit(df.iloc[train_indices[ind],:].drop(columns='Target'), df.iloc[train_indices[ind],[-1]])\n",
    "y_pred = nb.predict(X_valid)\n",
    "print('Final Classification')\n",
    "evaluate_classification(y_pred, y_valid)"
   ]
  },
  {
   "cell_type": "code",
   "execution_count": null,
   "metadata": {},
   "outputs": [],
   "source": [
    "#from sklearn.ensemble import RandomForestClassifier\n",
    "#clf = RandomForestClassifier(random_state = SEED,\n",
    "                            #n_estimators = 1600,\n",
    "                            #min_samples_split = 2,\n",
    "                            #min_samples_leaf = 1,\n",
    "                            #max_features = 'sqrt',\n",
    "                            #max_depth = 100,\n",
    "                            #bootstrap = False\n",
    "#)\n",
    "\n",
    "#clf_results = loops.loop_model(clf, df, train_indices, valid_indices, scaler=scaler)\n",
    "#ind = analyze_k.select_best(clf_results,'recall',4)\n",
    "#clf.fit(df.iloc[train_indices[ind],:].drop(columns='Target'), df.iloc[train_indices[ind],[-1]])\n",
    "#y_pred = clf.predict(X_valid)\n",
    "#print('Final Classification')\n",
    "#evaluate_classification(y_pred, y_valid)"
   ]
  },
  {
   "attachments": {},
   "cell_type": "markdown",
   "metadata": {},
   "source": [
    "#### Logistic Regression"
   ]
  },
  {
   "cell_type": "code",
   "execution_count": null,
   "metadata": {},
   "outputs": [],
   "source": [
    "reg = LogisticRegression(solver='liblinear', penalty='l2')\n",
    "reg_results = loops.loop_model(reg, df, train_indices, valid_indices, scaler=scaler)\n",
    "ind = analyze_k.select_best(reg_results,'recall',4)\n",
    "reg.fit(df.iloc[train_indices[ind],:].drop(columns='Target'), df.iloc[train_indices[ind],[-1]])\n",
    "y_pred = clf.predict(X_valid)\n",
    "print('Final Classification')\n",
    "evaluate_classification(y_pred, y_valid)\n"
   ]
  },
  {
   "attachments": {},
   "cell_type": "markdown",
   "metadata": {},
   "source": [
    "## Binary Model"
   ]
  },
  {
   "cell_type": "code",
   "execution_count": null,
   "metadata": {},
   "outputs": [],
   "source": [
    "# Recode target classes in the DataFrame\n",
    "df['Target'] = df['Target'].replace({1: 1, 2: 1, 3: 0, 4: 0})\n",
    "\n",
    "# Recode target classes in the validation data\n",
    "y_valid['Target'] = y_valid['Target'].replace({1: 1, 2: 1, 3: 0, 4: 0})\n"
   ]
  },
  {
   "cell_type": "markdown",
   "metadata": {},
   "source": [
    "### Naive Bayes"
   ]
  },
  {
   "cell_type": "code",
   "execution_count": null,
   "metadata": {},
   "outputs": [],
   "source": [
    "nb = ComplementNB()\n",
    "nb_results = loops.loop_model(nb, df, train_indices, valid_indices, scaler=scaler)\n",
    "#ind = analyze_k.select_best(nb_results,'recall',4)\n",
    "#nb.fit(df.iloc[train_indices[ind],:].drop(columns='Target'), df.iloc[train_indices[ind],[-1]])\n",
    "#y_pred = nb.predict(X_valid)\n",
    "#print('Final Classification')\n",
    "#evaluate_classification(y_pred, y_valid)"
   ]
  },
  {
   "attachments": {},
   "cell_type": "markdown",
   "metadata": {},
   "source": [
    "#### Random Forest"
   ]
  },
  {
   "cell_type": "code",
   "execution_count": null,
   "metadata": {},
   "outputs": [],
   "source": [
    "#clf_results = loops.loop_model(clf, df, train_indices, valid_indices, scaler=scaler)\n",
    "#ind = analyze_k.select_best(clf_results,'recall',4)\n",
    "#clf.fit(df.iloc[train_indices[ind],:].drop(columns='Target'), df.iloc[train_indices[ind],[-1]])\n",
    "#y_pred = clf.predict(X_valid)\n",
    "#print('Final Classification')\n",
    "#evaluate_classification(y_pred, y_valid)"
   ]
  },
  {
   "attachments": {},
   "cell_type": "markdown",
   "metadata": {},
   "source": [
    "#### KNN"
   ]
  },
  {
   "cell_type": "code",
   "execution_count": null,
   "metadata": {},
   "outputs": [],
   "source": [
    "knn = KNeighborsClassifier(n_neighbors=15, weights='distance')\n",
    "knn.fit(X_train, y_train)\n",
    "y_pred = knn.predict(X_valid)\n",
    "evaluate_classification(y_pred, y_valid, cm=False)"
   ]
  },
  {
   "attachments": {},
   "cell_type": "markdown",
   "metadata": {},
   "source": [
    "#### Logistic Regression"
   ]
  },
  {
   "cell_type": "code",
   "execution_count": null,
   "metadata": {},
   "outputs": [],
   "source": [
    "reg_results = loops.loop_model(reg, df, train_indices, valid_indices, scaler=scaler)\n",
    "#ind = analyze_k.select_best(reg_results,'recall',4)\n",
    "#reg.fit(df.iloc[train_indices[ind],:].drop(columns='Target'), df.iloc[train_indices[ind],[-1]])\n",
    "#y_pred = clf.predict(X_valid)\n",
    "#print('Final Classification')\n",
    "#evaluate_classification(y_pred, y_valid)\n"
   ]
  },
  {
   "attachments": {},
   "cell_type": "markdown",
   "metadata": {},
   "source": [
    "# Two Stage Binary Model"
   ]
  },
  {
   "cell_type": "code",
   "execution_count": null,
   "metadata": {},
   "outputs": [],
   "source": [
    "from sklearn.preprocessing import MinMaxScaler\n",
    "\n",
    "# Standardize the features\n",
    "scaler = MinMaxScaler()\n",
    "X_train_scaled = scaler.fit_transform(X_train)\n",
    "X_test_scaled = scaler.transform(X_valid)\n",
    "\n",
    "# Stage 1: create a binary target separating classes 1/2 from 3/4\n",
    "y_train_binary = y_train.copy()\n",
    "y_train_binary[y_train_binary.isin([1, 2])] = 1\n",
    "y_train_binary[y_train_binary.isin([3, 4])] = 0\n",
    "\n",
    "# Fit the first model\n",
    "model_1_2_vs_3_4 = ComplementNB()\n",
    "model_1_2_vs_3_4.fit(X_train_scaled, y_train_binary)\n",
    "\n",
    "# Make predictions and evaluate\n",
    "y_pred = model_1_2_vs_3_4.predict(X_test_scaled)\n",
    "evaluate_classification(y_pred, y_valid)\n",
    "\n",
    "# Stage 2: separate class 1 from class 2\n",
    "mask_1_2 = y_train_binary == 1\n",
    "model_1_vs_2 = ComplementNB()\n",
    "model_1_vs_2.fit(X_train_scaled[mask_1_2], y_train[mask_1_2])\n",
    "\n",
    "# Make predictions and evaluate\n",
    "y_pred = model_1_vs_2.predict(X_test_scaled)\n",
    "evaluate_classification(y_pred, y_valid)\n",
    "\n",
    "# Stage 3: separate class 3 from class 4\n",
    "mask_3_4 = y_train_binary == 0\n",
    "model_3_vs_4 = ComplementNB()\n",
    "model_3_vs_4.fit(X_train_scaled[mask_3_4], y_train[mask_3_4])\n",
    "\n",
    "# Make predictions and evaluate\n",
    "y_pred = model_3_vs_4.predict(X_test_scaled)\n",
    "evaluate_classification(y_pred, y_valid)"
   ]
  }
 ],
 "metadata": {
  "kernelspec": {
   "display_name": "capp-ml-env",
   "language": "python",
   "name": "python3"
  },
  "language_info": {
   "codemirror_mode": {
    "name": "ipython",
    "version": 3
   },
   "file_extension": ".py",
   "mimetype": "text/x-python",
   "name": "python",
   "nbconvert_exporter": "python",
   "pygments_lexer": "ipython3",
   "version": "3.11.2"
  },
  "orig_nbformat": 4
 },
 "nbformat": 4,
 "nbformat_minor": 2
}
