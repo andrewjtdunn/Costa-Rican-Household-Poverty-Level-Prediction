{
 "cells": [
  {
   "cell_type": "code",
   "execution_count": null,
   "metadata": {},
   "outputs": [],
   "source": [
    "## Random Forest Model for Costa Rican Poverty Level Predicion\n",
    "\n",
    "### Outline\n",
    "**1. Project Setup** \\\n",
    "*1.1 Load Data and Packages* \\\n",
    "*1.2 Data Cleaning* \\\n",
    "\\\n",
    "**2. What is a Naive Bayes Model?** \\\n",
    "*2.1 Summary of Approach* \\\n",
    "*2.2 Summary of Findings* \\\n",
    "\\\n",
    "**3. Models** \\\n",
    "*3.1 Basic Models* \\\n",
    "*3.2 Improving Model Performance* \\\n",
    "\\\n",
    "**4. Limitation and Next Steps**"
   ]
  },
  {
   "attachments": {},
   "cell_type": "markdown",
   "metadata": {},
   "source": [
    "## 1. Project Setup"
   ]
  },
  {
   "attachments": {},
   "cell_type": "markdown",
   "metadata": {},
   "source": [
    "### 1.1 Load Data & Packages"
   ]
  },
  {
   "cell_type": "code",
   "execution_count": null,
   "metadata": {},
   "outputs": [],
   "source": [
    "import load_data\n",
    "df, X_valid, y_valid = load_data.load_train_data()"
   ]
  },
  {
   "cell_type": "code",
   "execution_count": null,
   "metadata": {},
   "outputs": [],
   "source": [
    "X = df.iloc[:, :-1]\n",
    "y = df.loc[:, 'Target']"
   ]
  }
 ],
 "metadata": {
  "language_info": {
   "name": "python"
  },
  "orig_nbformat": 4
 },
 "nbformat": 4,
 "nbformat_minor": 2
}
